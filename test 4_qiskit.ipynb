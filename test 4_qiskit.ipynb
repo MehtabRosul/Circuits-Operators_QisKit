{
 "cells": [
  {
   "cell_type": "markdown",
   "metadata": {},
   "source": [
    "**Synthesize unitary operations**"
   ]
  },
  {
   "cell_type": "code",
   "execution_count": 1,
   "metadata": {},
   "outputs": [
    {
     "data": {
      "text/plain": [
       "<qiskit.circuit.instructionset.InstructionSet at 0x1cba99d8b20>"
      ]
     },
     "execution_count": 1,
     "metadata": {},
     "output_type": "execute_result"
    }
   ],
   "source": [
    "import numpy as np\n",
    "from qiskit import QuantumCircuit\n",
    " \n",
    "U = 0.5 * np.array([\n",
    "    [1, 1, 1, 1],\n",
    "    [-1, 1, -1, 1],\n",
    "    [-1, -1, 1, 1],\n",
    "    [-1, 1, 1, -1]\n",
    "])\n",
    " \n",
    "circuit = QuantumCircuit(2)\n",
    "circuit.unitary(U, circuit.qubits)"
   ]
  },
  {
   "cell_type": "markdown",
   "metadata": {},
   "source": [
    "**Re-synthesis for circuit optimization**"
   ]
  },
  {
   "cell_type": "code",
   "execution_count": 2,
   "metadata": {},
   "outputs": [
    {
     "data": {
      "image/png": "[encoded data removed]",
      "text/plain": [
       "<Figure size 705.35x284.278 with 1 Axes>"
      ]
     },
     "execution_count": 2,
     "metadata": {},
     "output_type": "execute_result"
    }
   ],
   "source": [
    "from qiskit import QuantumRegister, ClassicalRegister, QuantumCircuit\n",
    "from numpy import pi\n",
    " \n",
    "qreg_q = QuantumRegister(2, 'q')\n",
    "creg_c = ClassicalRegister(4, 'c')\n",
    "circuit = QuantumCircuit(qreg_q, creg_c)\n",
    " \n",
    "circuit.h(qreg_q[0])\n",
    "circuit.cx(qreg_q[0], qreg_q[1])\n",
    "circuit.sx(qreg_q[1])\n",
    "circuit.cz(qreg_q[0], qreg_q[1])\n",
    "circuit.x(qreg_q[1])\n",
    "circuit.x(qreg_q[0])\n",
    "circuit.cx(qreg_q[0], qreg_q[1])\n",
    "circuit.h(qreg_q[0])\n",
    "circuit.draw(\"mpl\")"
   ]
  },
  {
   "cell_type": "code",
   "execution_count": 3,
   "metadata": {},
   "outputs": [
    {
     "data": {
      "text/html": [
       "<pre style=\"word-wrap: normal;white-space: pre;background: #fff0;line-height: 1.1;font-family: &quot;Courier New&quot;,Courier,monospace\">global phase: 0.84516\n",
       "       ┌───────────────┐         ┌────────────────┐ \n",
       "q_0: ──┤ U(π/2,π/2,-π) ├────■────┤ U(π/2,-π,-π/2) ├─\n",
       "     ┌─┴───────────────┴─┐┌─┴─┐┌─┴────────────────┴┐\n",
       "q_1: ┤ U(0.11953,-π/2,0) ├┤ X ├┤ U(π/2,-1.6903,-π) ├\n",
       "     └───────────────────┘└───┘└───────────────────┘</pre>"
      ],
      "text/plain": [
       "global phase: 0.84516\n",
       "       ┌───────────────┐         ┌────────────────┐ \n",
       "q_0: ──┤ U(π/2,π/2,-π) ├────■────┤ U(π/2,-π,-π/2) ├─\n",
       "     ┌─┴───────────────┴─┐┌─┴─┐┌─┴────────────────┴┐\n",
       "q_1: ┤ U(0.11953,-π/2,0) ├┤ X ├┤ U(π/2,-1.6903,-π) ├\n",
       "     └───────────────────┘└───┘└───────────────────┘"
      ]
     },
     "execution_count": 3,
     "metadata": {},
     "output_type": "execute_result"
    }
   ],
   "source": [
    "from qiskit.quantum_info import Operator\n",
    " \n",
    "# compute unitary matrix of circuit\n",
    "U = Operator(circuit)\n",
    " \n",
    "# re-synthesize\n",
    "better_circuit = QuantumCircuit(2)\n",
    "better_circuit.unitary(U, range(2))\n",
    "better_circuit.decompose().draw()"
   ]
  }
 ],
 "metadata": {
  "kernelspec": {
   "display_name": "qiskit-env",
   "language": "python",
   "name": "python3"
  },
  "language_info": {
   "codemirror_mode": {
    "name": "ipython",
    "version": 3
   },
   "file_extension": ".py",
   "mimetype": "text/x-python",
   "name": "python",
   "nbconvert_exporter": "python",
   "pygments_lexer": "ipython3",
   "version": "3.8.19"
  }
 },
 "nbformat": 4,
 "nbformat_minor": 2
}
